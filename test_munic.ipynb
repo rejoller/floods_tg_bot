{
 "cells": [
  {
   "cell_type": "code",
   "execution_count": 8,
   "metadata": {},
   "outputs": [],
   "source": [
    "from database.engine import session_maker\n",
    "from database.models import Municipalities, MunicSubscriptions\n",
    "from sqlalchemy import select"
   ]
  },
  {
   "cell_type": "code",
   "execution_count": 6,
   "metadata": {},
   "outputs": [],
   "source": [
    "user_id = 964635576"
   ]
  },
  {
   "cell_type": "code",
   "execution_count": 14,
   "metadata": {},
   "outputs": [
    {
     "name": "stdout",
     "output_type": "stream",
     "text": [
      "['город Ачинск', 'город Боготол', 'город Дивногорск']\n"
     ]
    }
   ],
   "source": [
    "async with session_maker() as session_:\n",
    "    query = select(Municipalities.municipality_name).join(MunicSubscriptions, Municipalities.map_id == MunicSubscriptions.map_id).where(MunicSubscriptions.user_id == user_id)\n",
    "    response = await session_.execute(query)\n",
    "    response = response.all()\n",
    "    response = [i[0] for i in response]\n",
    "    print(response)\n",
    "    "
   ]
  }
 ],
 "metadata": {
  "kernelspec": {
   "display_name": ".venv",
   "language": "python",
   "name": "python3"
  },
  "language_info": {
   "codemirror_mode": {
    "name": "ipython",
    "version": 3
   },
   "file_extension": ".py",
   "mimetype": "text/x-python",
   "name": "python",
   "nbconvert_exporter": "python",
   "pygments_lexer": "ipython3",
   "version": "3.12.6"
  }
 },
 "nbformat": 4,
 "nbformat_minor": 2
}
